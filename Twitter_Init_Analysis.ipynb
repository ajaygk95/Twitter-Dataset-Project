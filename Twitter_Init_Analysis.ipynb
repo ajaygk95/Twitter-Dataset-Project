{
  "nbformat": 4,
  "nbformat_minor": 0,
  "metadata": {
    "colab": {
      "name": "Twitter_Init_Analysis.ipynb",
      "provenance": [],
      "collapsed_sections": []
    },
    "kernelspec": {
      "name": "python3",
      "display_name": "Python 3"
    }
  },
  "cells": [
    {
      "cell_type": "code",
      "metadata": {
        "id": "A8nJoYucoKcp",
        "colab_type": "code",
        "outputId": "945d13c9-882f-4af4-e3d3-d738e8497eb2",
        "colab": {
          "base_uri": "https://localhost:8080/",
          "height": 122
        }
      },
      "source": [
        "from google.colab import drive\n",
        "drive.mount('/content/drive')"
      ],
      "execution_count": 0,
      "outputs": [
        {
          "output_type": "stream",
          "text": [
            "Go to this URL in a browser: https://accounts.google.com/o/oauth2/auth?client_id=947318989803-6bn6qk8qdgf4n4g3pfee6491hc0brc4i.apps.googleusercontent.com&redirect_uri=urn%3Aietf%3Awg%3Aoauth%3A2.0%3Aoob&scope=email%20https%3A%2F%2Fwww.googleapis.com%2Fauth%2Fdocs.test%20https%3A%2F%2Fwww.googleapis.com%2Fauth%2Fdrive%20https%3A%2F%2Fwww.googleapis.com%2Fauth%2Fdrive.photos.readonly%20https%3A%2F%2Fwww.googleapis.com%2Fauth%2Fpeopleapi.readonly&response_type=code\n",
            "\n",
            "Enter your authorization code:\n",
            "··········\n",
            "Mounted at /content/drive\n"
          ],
          "name": "stdout"
        }
      ]
    },
    {
      "cell_type": "code",
      "metadata": {
        "id": "6XlpPk40o4N5",
        "colab_type": "code",
        "colab": {}
      },
      "source": [
        "import os\n",
        "import tweepy as tw\n",
        "import pandas as pd\n",
        "import datetime\n",
        "from tweepy.parsers import JSONParser\n",
        "import json\n",
        "import matplotlib.pyplot as plt"
      ],
      "execution_count": 0,
      "outputs": []
    },
    {
      "cell_type": "code",
      "metadata": {
        "id": "TN2GVarToqxi",
        "colab_type": "code",
        "colab": {}
      },
      "source": [
        "consumer_key= ''\n",
        "consumer_secret= ''\n",
        "access_token= ''\n",
        "access_token_secret= ''"
      ],
      "execution_count": 0,
      "outputs": []
    },
    {
      "cell_type": "code",
      "metadata": {
        "id": "KWgTkf4fo7yD",
        "colab_type": "code",
        "colab": {}
      },
      "source": [
        "auth = tw.OAuthHandler(consumer_key, consumer_secret)\n",
        "auth.set_access_token(access_token, access_token_secret)\n",
        "api = tw.API(auth, wait_on_rate_limit=True)"
      ],
      "execution_count": 0,
      "outputs": []
    },
    {
      "cell_type": "code",
      "metadata": {
        "id": "YuRSEzTvo70p",
        "colab_type": "code",
        "colab": {}
      },
      "source": [
        "places = api.geo_search(query=\"NY\", granularity=\"city\")\n",
        "place_id = places[0].id\n",
        "\n",
        "s = \"place:%s\" % place_id\n",
        "\n",
        "start=datetime.date(2018,10,1)\n",
        "current=datetime.date.today()\n",
        "\n",
        "all_tweets=[]\n",
        "\n",
        "ab = tw.Cursor(api.search,q=s).items(200)\n",
        "for t in ab:\n",
        "    # print(dir(t))\n",
        "    all_tweets.append(json.dumps(t._json))\n",
        "    #print(\"City: \"+str(t.place.name)+\" Time of tweet: \"+str(t.created_at))"
      ],
      "execution_count": 0,
      "outputs": []
    },
    {
      "cell_type": "code",
      "metadata": {
        "id": "8dHsLxsqpv34",
        "colab_type": "code",
        "outputId": "e7876735-6e2d-46b9-fbbb-30803440c483",
        "colab": {
          "base_uri": "https://localhost:8080/",
          "height": 34
        }
      },
      "source": [
        "len(all_tweets)"
      ],
      "execution_count": 0,
      "outputs": [
        {
          "output_type": "execute_result",
          "data": {
            "text/plain": [
              "100"
            ]
          },
          "metadata": {
            "tags": []
          },
          "execution_count": 167
        }
      ]
    },
    {
      "cell_type": "code",
      "metadata": {
        "id": "qCjqmpUG78h3",
        "colab_type": "code",
        "colab": {}
      },
      "source": [
        "# !pip install simplejson"
      ],
      "execution_count": 0,
      "outputs": []
    },
    {
      "cell_type": "code",
      "metadata": {
        "id": "ffYgJylJo73L",
        "colab_type": "code",
        "colab": {}
      },
      "source": [
        "import pandas as pd\n",
        "file_path = '/content/drive/My Drive/'\n",
        "# pd.read_json(file_path+'2018_11_07_18_onepercent.txt',lines=True)\n",
        "from os.path import join, dirname\n",
        "from jsonschema import validate\n",
        "import json\n",
        "\n",
        "def ab(data,jsonSchemaFilePath, l):\n",
        "    schema = {}\n",
        "    with open(jsonSchemaFilePath, 'r') as schema_file:\n",
        "        schema = json.loads(schema_file.read())\n",
        "    try:\n",
        "        # Draft4Validator.check_schema(schema)\n",
        "        validate(data, schema)\n",
        "        l.append(data)\n",
        "        # print(dict(data).get('user').get('id'))\n",
        "    except BaseException as e:\n",
        "        # print(str(e))\n",
        "        pass"
      ],
      "execution_count": 0,
      "outputs": []
    },
    {
      "cell_type": "code",
      "metadata": {
        "id": "bHdB3iYm9jkg",
        "colab_type": "code",
        "colab": {}
      },
      "source": [
        "l = []\n",
        "\n",
        "with open(file_path+'TwitterProject/2018_11_07_18_onepercent.txt', 'r') as f:\n",
        "  str_ = f.readlines()\n",
        "  f = open(file_path+'new_schema.json')\n",
        "  #print(str_[0])\n",
        "  for line in str_:\n",
        "    if line.strip():\n",
        "      ab(json.loads(line),file_path+'new_schema.json',l)\n"
      ],
      "execution_count": 0,
      "outputs": []
    },
    {
      "cell_type": "code",
      "metadata": {
        "id": "wNe7vhhsHUiZ",
        "colab_type": "code",
        "outputId": "87a6ef04-afe3-4120-b740-2f560aa6c93a",
        "colab": {
          "base_uri": "https://localhost:8080/",
          "height": 54
        }
      },
      "source": [
        "print(l[0])"
      ],
      "execution_count": 0,
      "outputs": [
        {
          "output_type": "stream",
          "text": [
            "{'created_at': 'Wed Nov 07 17:59:57 +0000 2018', 'id': 1060230389569126401, 'id_str': '1060230389569126401', 'text': 'RT @PanamaAmerica: #JudicialPA La reunión a la que no podrá asistir el empresario panameño, reúne a los jóvenes innovadores en el tema de l…', 'source': '<a href=\"http://twitter.com/download/android\" rel=\"nofollow\">Twitter for Android</a>', 'truncated': False, 'in_reply_to_status_id': None, 'in_reply_to_status_id_str': None, 'in_reply_to_user_id': None, 'in_reply_to_user_id_str': None, 'in_reply_to_screen_name': None, 'user': {'id': 795311323454140416, 'id_str': '795311323454140416', 'name': 'Elvis Hibbert T B.', 'screen_name': 'elvis_hibbert', 'location': None, 'url': None, 'description': 'Letras.// profesor.\\nsin prisa...pero sin descanso.\\npongo en contexto las mentiras disfrazadas de los que intentan maniobrar y confundir la opinion pública.', 'translator_type': 'none', 'protected': False, 'verified': False, 'followers_count': 842, 'friends_count': 760, 'listed_count': 1, 'favourites_count': 47301, 'statuses_count': 64913, 'created_at': 'Sun Nov 06 17:06:10 +0000 2016', 'utc_offset': None, 'time_zone': None, 'geo_enabled': False, 'lang': 'es', 'contributors_enabled': False, 'is_translator': False, 'profile_background_color': 'F5F8FA', 'profile_background_image_url': '', 'profile_background_image_url_https': '', 'profile_background_tile': False, 'profile_link_color': '1DA1F2', 'profile_sidebar_border_color': 'C0DEED', 'profile_sidebar_fill_color': 'DDEEF6', 'profile_text_color': '333333', 'profile_use_background_image': True, 'profile_image_url': 'http://pbs.twimg.com/profile_images/1057462981523595264/NYD4afh-_normal.jpg', 'profile_image_url_https': 'https://pbs.twimg.com/profile_images/1057462981523595264/NYD4afh-_normal.jpg', 'profile_banner_url': 'https://pbs.twimg.com/profile_banners/795311323454140416/1490896168', 'default_profile': True, 'default_profile_image': False, 'following': None, 'follow_request_sent': None, 'notifications': None}, 'geo': None, 'coordinates': None, 'place': None, 'contributors': None, 'retweeted_status': {'created_at': 'Wed Nov 07 01:00:03 +0000 2018', 'id': 1059973723384508416, 'id_str': '1059973723384508416', 'text': '#JudicialPA La reunión a la que no podrá asistir el empresario panameño, reúne a los jóvenes innovadores en el tema… https://t.co/irZ6aKIVKf', 'source': '<a href=\"https://about.twitter.com/products/tweetdeck\" rel=\"nofollow\">TweetDeck</a>', 'truncated': True, 'in_reply_to_status_id': None, 'in_reply_to_status_id_str': None, 'in_reply_to_user_id': None, 'in_reply_to_user_id_str': None, 'in_reply_to_screen_name': None, 'user': {'id': 250341631, 'id_str': '250341631', 'name': 'PanamáAmérica', 'screen_name': 'PanamaAmerica', 'location': 'Panamá', 'url': 'https://www.panamaamerica.com.pa', 'description': 'Diario Independiente desde 1925 en Panamá. Divulgamos responsablemente la verdad, contribuyendo al desarrollo integral de Panamá. Cuenta Oficial', 'translator_type': 'none', 'protected': False, 'verified': True, 'followers_count': 220796, 'friends_count': 1512, 'listed_count': 1122, 'favourites_count': 11368, 'statuses_count': 651391, 'created_at': 'Thu Feb 10 22:25:06 +0000 2011', 'utc_offset': None, 'time_zone': None, 'geo_enabled': True, 'lang': 'es', 'contributors_enabled': False, 'is_translator': False, 'profile_background_color': 'C0DEED', 'profile_background_image_url': 'http://abs.twimg.com/images/themes/theme1/bg.png', 'profile_background_image_url_https': 'https://abs.twimg.com/images/themes/theme1/bg.png', 'profile_background_tile': False, 'profile_link_color': '0084B4', 'profile_sidebar_border_color': 'FFFFFF', 'profile_sidebar_fill_color': 'DDEEF6', 'profile_text_color': '333333', 'profile_use_background_image': True, 'profile_image_url': 'http://pbs.twimg.com/profile_images/1057984250643972098/2cvd9USs_normal.jpg', 'profile_image_url_https': 'https://pbs.twimg.com/profile_images/1057984250643972098/2cvd9USs_normal.jpg', 'profile_banner_url': 'https://pbs.twimg.com/profile_banners/250341631/1541242577', 'default_profile': False, 'default_profile_image': False, 'following': None, 'follow_request_sent': None, 'notifications': None}, 'geo': None, 'coordinates': None, 'place': None, 'contributors': None, 'is_quote_status': False, 'extended_tweet': {'full_text': '#JudicialPA La reunión a la que no podrá asistir el empresario panameño, reúne a los jóvenes innovadores en el tema de la competencia más grande de mercado emergente.  https://t.co/f0omDKKTxA', 'display_text_range': [0, 191], 'entities': {'hashtags': [{'text': 'JudicialPA', 'indices': [0, 11]}], 'urls': [{'url': 'https://t.co/f0omDKKTxA', 'expanded_url': 'http://bit.ly/2F4loSI', 'display_url': 'bit.ly/2F4loSI', 'indices': [168, 191]}], 'user_mentions': [], 'symbols': []}}, 'quote_count': 5, 'reply_count': 6, 'retweet_count': 44, 'favorite_count': 31, 'entities': {'hashtags': [{'text': 'JudicialPA', 'indices': [0, 11]}], 'urls': [{'url': 'https://t.co/irZ6aKIVKf', 'expanded_url': 'https://twitter.com/i/web/status/1059973723384508416', 'display_url': 'twitter.com/i/web/status/1…', 'indices': [117, 140]}], 'user_mentions': [], 'symbols': []}, 'favorited': False, 'retweeted': False, 'possibly_sensitive': False, 'filter_level': 'low', 'lang': 'es'}, 'is_quote_status': False, 'quote_count': 0, 'reply_count': 0, 'retweet_count': 0, 'favorite_count': 0, 'entities': {'hashtags': [{'text': 'JudicialPA', 'indices': [19, 30]}], 'urls': [], 'user_mentions': [{'screen_name': 'PanamaAmerica', 'name': 'PanamáAmérica', 'id': 250341631, 'id_str': '250341631', 'indices': [3, 17]}], 'symbols': []}, 'favorited': False, 'retweeted': False, 'filter_level': 'low', 'lang': 'es', 'timestamp_ms': '1541613597658'}\n"
          ],
          "name": "stdout"
        }
      ]
    },
    {
      "cell_type": "code",
      "metadata": {
        "id": "qk5VjnwEk6k3",
        "colab_type": "code",
        "outputId": "ab971ac8-0eaf-4a68-b027-05a2ac1a0c92",
        "colab": {
          "base_uri": "https://localhost:8080/",
          "height": 34
        }
      },
      "source": [
        "len(l)"
      ],
      "execution_count": 0,
      "outputs": [
        {
          "output_type": "execute_result",
          "data": {
            "text/plain": [
              "127504"
            ]
          },
          "metadata": {
            "tags": []
          },
          "execution_count": 6
        }
      ]
    },
    {
      "cell_type": "code",
      "metadata": {
        "id": "q8h6Zqm6wQug",
        "colab_type": "code",
        "colab": {}
      },
      "source": [
        "a = pd.DataFrame.from_dict(l)"
      ],
      "execution_count": 0,
      "outputs": []
    },
    {
      "cell_type": "code",
      "metadata": {
        "id": "LicQtfqJn4D2",
        "colab_type": "code",
        "colab": {}
      },
      "source": [
        "a.fillna(\"Na\",inplace=True)"
      ],
      "execution_count": 0,
      "outputs": []
    },
    {
      "cell_type": "code",
      "metadata": {
        "id": "0J-NKSbXnrvD",
        "colab_type": "code",
        "colab": {}
      },
      "source": [
        "timeZone = a.place.apply(lambda x: x!= \"Na\")\n",
        "timeZoneDf = a[timeZone]"
      ],
      "execution_count": 0,
      "outputs": []
    },
    {
      "cell_type": "code",
      "metadata": {
        "id": "TfDiKfmbnw2f",
        "colab_type": "code",
        "colab": {}
      },
      "source": [
        "timeZoneDf.head()"
      ],
      "execution_count": 0,
      "outputs": []
    },
    {
      "cell_type": "code",
      "metadata": {
        "id": "h_yD_0hrxgw0",
        "colab_type": "code",
        "outputId": "01080bfa-8659-4ba8-805c-7a21092e6dad",
        "colab": {
          "base_uri": "https://localhost:8080/",
          "height": 462
        }
      },
      "source": [
        "a.head()"
      ],
      "execution_count": 0,
      "outputs": [
        {
          "output_type": "execute_result",
          "data": {
            "text/html": [
              "<div>\n",
              "<style scoped>\n",
              "    .dataframe tbody tr th:only-of-type {\n",
              "        vertical-align: middle;\n",
              "    }\n",
              "\n",
              "    .dataframe tbody tr th {\n",
              "        vertical-align: top;\n",
              "    }\n",
              "\n",
              "    .dataframe thead th {\n",
              "        text-align: right;\n",
              "    }\n",
              "</style>\n",
              "<table border=\"1\" class=\"dataframe\">\n",
              "  <thead>\n",
              "    <tr style=\"text-align: right;\">\n",
              "      <th></th>\n",
              "      <th>created_at</th>\n",
              "      <th>id</th>\n",
              "      <th>id_str</th>\n",
              "      <th>text</th>\n",
              "      <th>source</th>\n",
              "      <th>truncated</th>\n",
              "      <th>in_reply_to_status_id</th>\n",
              "      <th>in_reply_to_status_id_str</th>\n",
              "      <th>in_reply_to_user_id</th>\n",
              "      <th>in_reply_to_user_id_str</th>\n",
              "      <th>in_reply_to_screen_name</th>\n",
              "      <th>user</th>\n",
              "      <th>geo</th>\n",
              "      <th>coordinates</th>\n",
              "      <th>place</th>\n",
              "      <th>contributors</th>\n",
              "      <th>retweeted_status</th>\n",
              "      <th>is_quote_status</th>\n",
              "      <th>quote_count</th>\n",
              "      <th>reply_count</th>\n",
              "      <th>retweet_count</th>\n",
              "      <th>favorite_count</th>\n",
              "      <th>entities</th>\n",
              "      <th>favorited</th>\n",
              "      <th>retweeted</th>\n",
              "      <th>filter_level</th>\n",
              "      <th>lang</th>\n",
              "      <th>timestamp_ms</th>\n",
              "      <th>display_text_range</th>\n",
              "      <th>possibly_sensitive</th>\n",
              "      <th>extended_entities</th>\n",
              "      <th>extended_tweet</th>\n",
              "      <th>quoted_status_id</th>\n",
              "      <th>quoted_status_id_str</th>\n",
              "      <th>quoted_status</th>\n",
              "      <th>quoted_status_permalink</th>\n",
              "      <th>withheld_in_countries</th>\n",
              "      <th>location</th>\n",
              "    </tr>\n",
              "  </thead>\n",
              "  <tbody>\n",
              "    <tr>\n",
              "      <th>0</th>\n",
              "      <td>Wed Nov 07 17:59:57 +0000 2018</td>\n",
              "      <td>1060230389569126401</td>\n",
              "      <td>1060230389569126401</td>\n",
              "      <td>RT @PanamaAmerica: #JudicialPA La reunión a la...</td>\n",
              "      <td>&lt;a href=\"http://twitter.com/download/android\" ...</td>\n",
              "      <td>False</td>\n",
              "      <td>Na</td>\n",
              "      <td>Na</td>\n",
              "      <td>Na</td>\n",
              "      <td>Na</td>\n",
              "      <td>Na</td>\n",
              "      <td>{'id': 795311323454140416, 'id_str': '79531132...</td>\n",
              "      <td>Na</td>\n",
              "      <td>Na</td>\n",
              "      <td>Na</td>\n",
              "      <td>Na</td>\n",
              "      <td>{'created_at': 'Wed Nov 07 01:00:03 +0000 2018...</td>\n",
              "      <td>False</td>\n",
              "      <td>0</td>\n",
              "      <td>0</td>\n",
              "      <td>0</td>\n",
              "      <td>0</td>\n",
              "      <td>{'hashtags': [{'text': 'JudicialPA', 'indices'...</td>\n",
              "      <td>False</td>\n",
              "      <td>False</td>\n",
              "      <td>low</td>\n",
              "      <td>es</td>\n",
              "      <td>0.001</td>\n",
              "      <td>Na</td>\n",
              "      <td>Na</td>\n",
              "      <td>Na</td>\n",
              "      <td>Na</td>\n",
              "      <td>Na</td>\n",
              "      <td>Na</td>\n",
              "      <td>Na</td>\n",
              "      <td>Na</td>\n",
              "      <td>Na</td>\n",
              "      <td>NA</td>\n",
              "    </tr>\n",
              "    <tr>\n",
              "      <th>1</th>\n",
              "      <td>Wed Nov 07 17:59:57 +0000 2018</td>\n",
              "      <td>1060230389585723392</td>\n",
              "      <td>1060230389585723392</td>\n",
              "      <td>@miyaxddd owなう</td>\n",
              "      <td>&lt;a href=\"http://twitter.com/download/android\" ...</td>\n",
              "      <td>False</td>\n",
              "      <td>1.06023e+18</td>\n",
              "      <td>1060230231066210304</td>\n",
              "      <td>2.25483e+09</td>\n",
              "      <td>2254826762</td>\n",
              "      <td>miyaxddd</td>\n",
              "      <td>{'id': 365950119, 'id_str': '365950119', 'name...</td>\n",
              "      <td>Na</td>\n",
              "      <td>Na</td>\n",
              "      <td>Na</td>\n",
              "      <td>Na</td>\n",
              "      <td>Na</td>\n",
              "      <td>False</td>\n",
              "      <td>0</td>\n",
              "      <td>0</td>\n",
              "      <td>0</td>\n",
              "      <td>0</td>\n",
              "      <td>{'hashtags': [], 'urls': [], 'user_mentions': ...</td>\n",
              "      <td>False</td>\n",
              "      <td>False</td>\n",
              "      <td>low</td>\n",
              "      <td>ja</td>\n",
              "      <td>0.005</td>\n",
              "      <td>[10, 14]</td>\n",
              "      <td>Na</td>\n",
              "      <td>Na</td>\n",
              "      <td>Na</td>\n",
              "      <td>Na</td>\n",
              "      <td>Na</td>\n",
              "      <td>Na</td>\n",
              "      <td>Na</td>\n",
              "      <td>Na</td>\n",
              "      <td>七森市</td>\n",
              "    </tr>\n",
              "    <tr>\n",
              "      <th>2</th>\n",
              "      <td>Wed Nov 07 17:59:57 +0000 2018</td>\n",
              "      <td>1060230389573341184</td>\n",
              "      <td>1060230389573341184</td>\n",
              "      <td>I can break a phone better than anyone else I ...</td>\n",
              "      <td>&lt;a href=\"http://twitter.com/download/iphone\" r...</td>\n",
              "      <td>False</td>\n",
              "      <td>Na</td>\n",
              "      <td>Na</td>\n",
              "      <td>Na</td>\n",
              "      <td>Na</td>\n",
              "      <td>Na</td>\n",
              "      <td>{'id': 3312683323, 'id_str': '3312683323', 'na...</td>\n",
              "      <td>Na</td>\n",
              "      <td>Na</td>\n",
              "      <td>Na</td>\n",
              "      <td>Na</td>\n",
              "      <td>Na</td>\n",
              "      <td>False</td>\n",
              "      <td>0</td>\n",
              "      <td>0</td>\n",
              "      <td>0</td>\n",
              "      <td>0</td>\n",
              "      <td>{'hashtags': [], 'urls': [], 'user_mentions': ...</td>\n",
              "      <td>False</td>\n",
              "      <td>False</td>\n",
              "      <td>low</td>\n",
              "      <td>en</td>\n",
              "      <td>0.002</td>\n",
              "      <td>Na</td>\n",
              "      <td>Na</td>\n",
              "      <td>Na</td>\n",
              "      <td>Na</td>\n",
              "      <td>Na</td>\n",
              "      <td>Na</td>\n",
              "      <td>Na</td>\n",
              "      <td>Na</td>\n",
              "      <td>Na</td>\n",
              "      <td>College Station, TX</td>\n",
              "    </tr>\n",
              "    <tr>\n",
              "      <th>3</th>\n",
              "      <td>Wed Nov 07 17:59:57 +0000 2018</td>\n",
              "      <td>1060230389569073152</td>\n",
              "      <td>1060230389569073152</td>\n",
              "      <td>اللهم ﺍﻗﻀﻲ ﺣﺎﺟﺘﻲ، وﺍﻧس ﻭﺣﺪﺗﻲ، و ﻓﺮﺝ ﻛﺮﺑﺘﻲ يا ك...</td>\n",
              "      <td>&lt;a href=\"http://qurani.tv\" rel=\"nofollow\"&gt;تطبي...</td>\n",
              "      <td>False</td>\n",
              "      <td>Na</td>\n",
              "      <td>Na</td>\n",
              "      <td>Na</td>\n",
              "      <td>Na</td>\n",
              "      <td>Na</td>\n",
              "      <td>{'id': 2866189938, 'id_str': '2866189938', 'na...</td>\n",
              "      <td>Na</td>\n",
              "      <td>Na</td>\n",
              "      <td>Na</td>\n",
              "      <td>Na</td>\n",
              "      <td>Na</td>\n",
              "      <td>False</td>\n",
              "      <td>0</td>\n",
              "      <td>0</td>\n",
              "      <td>0</td>\n",
              "      <td>0</td>\n",
              "      <td>{'hashtags': [], 'urls': [{'url': 'https://t.c...</td>\n",
              "      <td>False</td>\n",
              "      <td>False</td>\n",
              "      <td>low</td>\n",
              "      <td>ar</td>\n",
              "      <td>0.001</td>\n",
              "      <td>Na</td>\n",
              "      <td>False</td>\n",
              "      <td>Na</td>\n",
              "      <td>Na</td>\n",
              "      <td>Na</td>\n",
              "      <td>Na</td>\n",
              "      <td>Na</td>\n",
              "      <td>Na</td>\n",
              "      <td>Na</td>\n",
              "      <td>bakhoun</td>\n",
              "    </tr>\n",
              "    <tr>\n",
              "      <th>4</th>\n",
              "      <td>Wed Nov 07 17:59:57 +0000 2018</td>\n",
              "      <td>1060230389577453574</td>\n",
              "      <td>1060230389577453574</td>\n",
              "      <td>RT @_safeguard: @shadescfgray https://t.co/eHd...</td>\n",
              "      <td>&lt;a href=\"http://twitter.com/download/iphone\" r...</td>\n",
              "      <td>False</td>\n",
              "      <td>Na</td>\n",
              "      <td>Na</td>\n",
              "      <td>Na</td>\n",
              "      <td>Na</td>\n",
              "      <td>Na</td>\n",
              "      <td>{'id': 317255741, 'id_str': '317255741', 'name...</td>\n",
              "      <td>Na</td>\n",
              "      <td>Na</td>\n",
              "      <td>Na</td>\n",
              "      <td>Na</td>\n",
              "      <td>{'created_at': 'Wed Nov 07 17:33:48 +0000 2018...</td>\n",
              "      <td>False</td>\n",
              "      <td>0</td>\n",
              "      <td>0</td>\n",
              "      <td>0</td>\n",
              "      <td>0</td>\n",
              "      <td>{'hashtags': [], 'urls': [], 'user_mentions': ...</td>\n",
              "      <td>False</td>\n",
              "      <td>False</td>\n",
              "      <td>low</td>\n",
              "      <td>und</td>\n",
              "      <td>0.003</td>\n",
              "      <td>Na</td>\n",
              "      <td>False</td>\n",
              "      <td>{'media': [{'id': 1060223796488163330, 'id_str...</td>\n",
              "      <td>Na</td>\n",
              "      <td>Na</td>\n",
              "      <td>Na</td>\n",
              "      <td>Na</td>\n",
              "      <td>Na</td>\n",
              "      <td>Na</td>\n",
              "      <td>22:07 h</td>\n",
              "    </tr>\n",
              "  </tbody>\n",
              "</table>\n",
              "</div>"
            ],
            "text/plain": [
              "                       created_at  ...             location\n",
              "0  Wed Nov 07 17:59:57 +0000 2018  ...                   NA\n",
              "1  Wed Nov 07 17:59:57 +0000 2018  ...                  七森市\n",
              "2  Wed Nov 07 17:59:57 +0000 2018  ...  College Station, TX\n",
              "3  Wed Nov 07 17:59:57 +0000 2018  ...              bakhoun\n",
              "4  Wed Nov 07 17:59:57 +0000 2018  ...              22:07 h\n",
              "\n",
              "[5 rows x 38 columns]"
            ]
          },
          "metadata": {
            "tags": []
          },
          "execution_count": 218
        }
      ]
    },
    {
      "cell_type": "code",
      "metadata": {
        "id": "vCrNBztbwatr",
        "colab_type": "code",
        "colab": {}
      },
      "source": [
        "b = pd.DataFrame.from_dict(dict(a.user))"
      ],
      "execution_count": 0,
      "outputs": []
    },
    {
      "cell_type": "code",
      "metadata": {
        "id": "MaC9egT9l4TQ",
        "colab_type": "code",
        "colab": {}
      },
      "source": [
        "b.time_zone[0]"
      ],
      "execution_count": 0,
      "outputs": []
    },
    {
      "cell_type": "code",
      "metadata": {
        "id": "2WYkmt64w-N_",
        "colab_type": "code",
        "colab": {}
      },
      "source": [
        "b = b.T"
      ],
      "execution_count": 0,
      "outputs": []
    },
    {
      "cell_type": "code",
      "metadata": {
        "id": "YcBAM77amKX_",
        "colab_type": "code",
        "colab": {}
      },
      "source": [
        "b.fillna(\"Na\",inplace=True)"
      ],
      "execution_count": 0,
      "outputs": []
    },
    {
      "cell_type": "code",
      "metadata": {
        "id": "CnjmNcyJlUWB",
        "colab_type": "code",
        "colab": {}
      },
      "source": [
        "timeZone = b.utc_offset.apply(lambda x: x!= \"Na\")\n",
        "timeZoneDf = b[timeZone]"
      ],
      "execution_count": 0,
      "outputs": []
    },
    {
      "cell_type": "code",
      "metadata": {
        "id": "5iWrgaNbmyHM",
        "colab_type": "code",
        "colab": {}
      },
      "source": [
        "timeZoneDf.head()"
      ],
      "execution_count": 0,
      "outputs": []
    },
    {
      "cell_type": "code",
      "metadata": {
        "id": "k5tPmo7-xcZ8",
        "colab_type": "code",
        "colab": {}
      },
      "source": [
        "b.head()"
      ],
      "execution_count": 0,
      "outputs": []
    },
    {
      "cell_type": "code",
      "metadata": {
        "id": "xYhRbjkE_6RH",
        "colab_type": "code",
        "colab": {}
      },
      "source": [
        "#a.location = b.location\n",
        "a['location'] = b['location'].values"
      ],
      "execution_count": 0,
      "outputs": []
    },
    {
      "cell_type": "code",
      "metadata": {
        "id": "JkTB8RDxBOuT",
        "colab_type": "code",
        "colab": {}
      },
      "source": [
        "a.timestamp_ms = a.timestamp_ms.astype(int)"
      ],
      "execution_count": 0,
      "outputs": []
    },
    {
      "cell_type": "code",
      "metadata": {
        "id": "JMSuNfnYBEDb",
        "colab_type": "code",
        "colab": {}
      },
      "source": [
        "a.timestamp_ms = a.timestamp_ms.apply(lambda x:(x-1541613597657)/1000)"
      ],
      "execution_count": 0,
      "outputs": []
    },
    {
      "cell_type": "code",
      "metadata": {
        "id": "Vy2aCa-heMMu",
        "colab_type": "code",
        "outputId": "264f2e77-692a-49d5-f48f-6e6ac9defdc8",
        "colab": {
          "base_uri": "https://localhost:8080/",
          "height": 337
        }
      },
      "source": [
        "a.timestamp_ms.hist(bins=100, rwidth = 0.8, figsize=(15,5))"
      ],
      "execution_count": 0,
      "outputs": [
        {
          "output_type": "execute_result",
          "data": {
            "text/plain": [
              "<matplotlib.axes._subplots.AxesSubplot at 0x7f4d4cccbb70>"
            ]
          },
          "metadata": {
            "tags": []
          },
          "execution_count": 18
        },
        {
          "output_type": "display_data",
          "data": {
            "image/png": "[encoded data removed]",
            "text/plain": [
              "<Figure size 1080x360 with 1 Axes>"
            ]
          },
          "metadata": {
            "tags": []
          }
        }
      ]
    },
    {
      "cell_type": "code",
      "metadata": {
        "id": "qRN3u9qjsFUN",
        "colab_type": "code",
        "colab": {}
      },
      "source": [
        "somedf = a.groupby('location')['id'].nunique()\n",
        "plt.subplots(figsize=(20,5))\n",
        "somedf.plot.line()"
      ],
      "execution_count": 0,
      "outputs": []
    },
    {
      "cell_type": "code",
      "metadata": {
        "id": "AWUQMPrC6FWd",
        "colab_type": "code",
        "outputId": "275c3f87-2ef6-4cb0-a479-74b167576a70",
        "colab": {
          "base_uri": "https://localhost:8080/",
          "height": 238
        }
      },
      "source": [
        "somedf"
      ],
      "execution_count": 0,
      "outputs": [
        {
          "output_type": "execute_result",
          "data": {
            "text/plain": [
              "location\n",
              "\\tİzmir - Smyrna            1\n",
              "\\tפָּרָשַׁת דְּרָכִים       1\n",
              "\\t♌︎☉/↑ ♋︎☽                 1\n",
              "\\t砂隠れの里                     1\n",
              "\\n                          9\n",
              "                           ..\n",
              "🧞‍♂️                        1\n",
              "🧠                           1\n",
              "🧡                           1\n",
              "🧫🦠🧬🧪                        1\n",
              "󾓦Sandy Hook, Connecticut    1\n",
              "Name: id, Length: 42722, dtype: int64"
            ]
          },
          "metadata": {
            "tags": []
          },
          "execution_count": 200
        }
      ]
    },
    {
      "cell_type": "code",
      "metadata": {
        "id": "m1FTQLYV2m9U",
        "colab_type": "code",
        "colab": {}
      },
      "source": [
        "LocDf = pd.DataFrame(a.drop_duplicates().location.value_counts())\n",
        "LocDf['LocationName'] = LocDf.index"
      ],
      "execution_count": 0,
      "outputs": []
    },
    {
      "cell_type": "code",
      "metadata": {
        "id": "Mio1flArz_JX",
        "colab_type": "code",
        "colab": {}
      },
      "source": [
        "locationData = pd.DataFrame({'location':newCol.location, 'LocationName': newCol.LocationName})\n",
        "locationData.to_csv('/content/drive/My Drive/NewLocationData.csv',index=False);"
      ],
      "execution_count": 0,
      "outputs": []
    },
    {
      "cell_type": "code",
      "metadata": {
        "id": "209R5QnDuSY_",
        "colab_type": "code",
        "outputId": "f53d5dab-a36c-4a62-dbf4-8176db3f9052",
        "colab": {
          "base_uri": "https://localhost:8080/",
          "height": 68
        }
      },
      "source": [
        "print(a.shape)\n",
        "print(somedf.shape)\n",
        "print(new_df.shape)"
      ],
      "execution_count": 0,
      "outputs": [
        {
          "output_type": "stream",
          "text": [
            "(127504, 38)\n",
            "(42722,)\n",
            "(7258,)\n"
          ],
          "name": "stdout"
        }
      ]
    },
    {
      "cell_type": "code",
      "metadata": {
        "id": "sy-624oCwpeS",
        "colab_type": "code",
        "outputId": "99c6ce03-cade-4451-8552-474a0a7d2c63",
        "colab": {
          "base_uri": "https://localhost:8080/",
          "height": 238
        }
      },
      "source": [
        "new_df #United States"
      ],
      "execution_count": 0,
      "outputs": [
        {
          "output_type": "execute_result",
          "data": {
            "text/plain": [
              "location\n",
              "                  52\n",
              ".                 39\n",
              "021               45\n",
              "027               21\n",
              "Abuja, Nigeria    50\n",
              "                  ..\n",
              "日本 東京             40\n",
              "東京                30\n",
              "東京都               21\n",
              "대한민국              43\n",
              "대한민국 서울           22\n",
              "Name: id, Length: 344, dtype: int64"
            ]
          },
          "metadata": {
            "tags": []
          },
          "execution_count": 21
        }
      ]
    },
    {
      "cell_type": "code",
      "metadata": {
        "id": "3qxRuDnGZCZy",
        "colab_type": "code",
        "colab": {}
      },
      "source": [
        "newCol = somedf > 1\n",
        "newDF = somedf[newCol]"
      ],
      "execution_count": 0,
      "outputs": []
    },
    {
      "cell_type": "code",
      "metadata": {
        "id": "UWLBbi8nVdVX",
        "colab_type": "code",
        "colab": {}
      },
      "source": [
        "a.location = a.location.fillna(\"NA\");"
      ],
      "execution_count": 0,
      "outputs": []
    },
    {
      "cell_type": "code",
      "metadata": {
        "id": "Gpb4iMhB-p6p",
        "colab_type": "code",
        "colab": {}
      },
      "source": [
        "new_col = a.location.apply(lambda x:'United States' in x  or 'USA' in x)\n",
        "new_df = a[new_col]"
      ],
      "execution_count": 0,
      "outputs": []
    },
    {
      "cell_type": "code",
      "metadata": {
        "id": "anyIo5KNt84P",
        "colab_type": "code",
        "outputId": "41fd120f-f5dc-40b0-f831-909f6bd564c3",
        "colab": {
          "base_uri": "https://localhost:8080/",
          "height": 391
        }
      },
      "source": [
        "newDF.head(20)"
      ],
      "execution_count": 0,
      "outputs": [
        {
          "output_type": "execute_result",
          "data": {
            "text/plain": [
              "location\n",
              "\\n                              9\n",
              "                               52\n",
              "                                5\n",
              "                                4\n",
              "                                2\n",
              "   Kuwait                       3\n",
              "  البصره                        2\n",
              " #توته  ❤🌹                      2\n",
              " - Kuwait 🇰🇼                    2\n",
              " 93/ Noisy-le-Grand, France     2\n",
              " A Ville called Thrill          2\n",
              " Argentina                      2\n",
              " Arkansas                       2\n",
              " Brasil                         4\n",
              " Bullet,Suisse.                 2\n",
              " California                     2\n",
              " Campos de Algodón              2\n",
              " Catalunya                      2\n",
              " Cumbria, UK                    2\n",
              " España                         4\n",
              "Name: id, dtype: int64"
            ]
          },
          "metadata": {
            "tags": []
          },
          "execution_count": 215
        }
      ]
    },
    {
      "cell_type": "code",
      "metadata": {
        "id": "cpdc1IRuFyVi",
        "colab_type": "code",
        "outputId": "7c3c0539-1c4b-49ee-b7cc-ba0baf50ba52",
        "colab": {
          "base_uri": "https://localhost:8080/",
          "height": 337
        }
      },
      "source": [
        "new_df.timestamp_ms.hist(bins=100, rwidth = 0.8, figsize=(15,5))"
      ],
      "execution_count": 0,
      "outputs": [
        {
          "output_type": "execute_result",
          "data": {
            "text/plain": [
              "<matplotlib.axes._subplots.AxesSubplot at 0x7f4d3d725a58>"
            ]
          },
          "metadata": {
            "tags": []
          },
          "execution_count": 206
        },
        {
          "output_type": "display_data",
          "data": {
            "image/png": "[encoded data removed]",
            "text/plain": [
              "<Figure size 1080x360 with 1 Axes>"
            ]
          },
          "metadata": {
            "tags": []
          }
        }
      ]
    },
    {
      "cell_type": "code",
      "metadata": {
        "id": "o0DY8Xgck5rT",
        "colab_type": "code",
        "outputId": "a8325243-5ddd-4bae-cfec-bd5b11c46ca0",
        "colab": {
          "base_uri": "https://localhost:8080/",
          "height": 34
        }
      },
      "source": [
        "new_df.timestamp_ms.max()"
      ],
      "execution_count": 0,
      "outputs": [
        {
          "output_type": "execute_result",
          "data": {
            "text/plain": [
              "3595.007"
            ]
          },
          "metadata": {
            "tags": []
          },
          "execution_count": 25
        }
      ]
    },
    {
      "cell_type": "code",
      "metadata": {
        "id": "oaNnnpUADc35",
        "colab_type": "code",
        "outputId": "20ae7d68-3330-46cc-b2e9-c03542e53b27",
        "colab": {
          "base_uri": "https://localhost:8080/",
          "height": 350
        }
      },
      "source": [
        "new_col = a.location.apply(lambda x:'India' in x)\n",
        "new_df = a[new_col]\n",
        "new_df.timestamp_ms.hist(bins=100, rwidth = 0.8, figsize=(15,5))"
      ],
      "execution_count": 0,
      "outputs": [
        {
          "output_type": "execute_result",
          "data": {
            "text/plain": [
              "<matplotlib.axes._subplots.AxesSubplot at 0x7f8bf5b67a20>"
            ]
          },
          "metadata": {
            "tags": []
          },
          "execution_count": 40
        },
        {
          "output_type": "display_data",
          "data": {
            "image/png": "[encoded data removed]",
            "text/plain": [
              "<Figure size 1080x360 with 1 Axes>"
            ]
          },
          "metadata": {
            "tags": []
          }
        }
      ]
    },
    {
      "cell_type": "code",
      "metadata": {
        "id": "Fun9xbOZSA0_",
        "colab_type": "code",
        "colab": {}
      },
      "source": [
        "new_df"
      ],
      "execution_count": 0,
      "outputs": []
    },
    {
      "cell_type": "code",
      "metadata": {
        "id": "8K4yL5FHSYVi",
        "colab_type": "code",
        "colab": {}
      },
      "source": [
        "loc = a.location.unique()"
      ],
      "execution_count": 0,
      "outputs": []
    },
    {
      "cell_type": "code",
      "metadata": {
        "id": "9OyWJAxSSdDI",
        "colab_type": "code",
        "outputId": "4971633d-0c72-4ea0-a32b-eb8b8bb84e49",
        "colab": {
          "base_uri": "https://localhost:8080/",
          "height": 51
        }
      },
      "source": [
        "loc"
      ],
      "execution_count": 0,
      "outputs": [
        {
          "output_type": "execute_result",
          "data": {
            "text/plain": [
              "array(['NA', '七森市', 'College Station, TX', ..., 'snow rol ',\n",
              "       'Out of time ', 'cirque du trash'], dtype=object)"
            ]
          },
          "metadata": {
            "tags": []
          },
          "execution_count": 133
        }
      ]
    },
    {
      "cell_type": "code",
      "metadata": {
        "id": "0Xp5YTPIXvIu",
        "colab_type": "code",
        "colab": {}
      },
      "source": [
        "us_state_list=[\"alabama\",\"alaska\",\"arizona\",\"arkansas\",\"california\",\n",
        "               \"colorado\",\"connecticut\",\"delaware\",\"florida\",\"georgia\",\n",
        "               \"hawaii\",\"idaho\",\"illinois\",\"indiana\",\"iowa\",\"kansas\",\"kentucky\",\n",
        "               \"louisiana\",\"maine\",\"maryland\",\"massachusetts\",\"michigan\",\"minnesota\",\n",
        "               \"mississippi\",\"missouri\",\"montana\",\"nebraska\",\"nevada\",\"newhampshire\",\n",
        "               \"newjersey\",\"newmexico\",\"newyork\",\"northcarolina\",\"northdakota\",\"ohio\",\n",
        "               \"oklahoma\",\"oregon\",\"pennsylvania\",\"rhodeisland\",\"southcarolina\",\"southdakota\",\n",
        "               \"tennessee\",\"texas\",\"utah\",\"vermont\",\"virginia\",\"washington\",\"westvirginia\",\n",
        "               \"wisconsin\",\"wyoming\",\"al\",\"ak\",\"az\",\"ar\",\"ca\",\"co\",\"ct\",\"de\",\"fl\",\"ga\",\"hi\",\n",
        "               \"id\",\"il\",\"in\",\"ia\",\"ks\",\"ky\",\"la\",\"me\",\"md\",\"ma\",\"mi\",\"mn\",\"ms\",\"mo\",\"mt\",\"ne\",\n",
        "               \"nv\",\"nh\",\"nj\",\"nm\",\"ny\",\"nc\",\"nd\",\"oh\",\"ok\",\"or\",\"pa\",\"ri\",\"sc\",\"sd\",\"tn\",\"tx\",\n",
        "               \"ut\",\"vt\",\"va\",\"wa\",\"wv\",\"wi\",\"wy\",\"unitedstates\",\"usa\",\"us\",\"unitedstatesofamerica\"]\n",
        "us_state_set = set()\n",
        "for state in us_state_list:\n",
        "  us_state_set.add(state)"
      ],
      "execution_count": 0,
      "outputs": []
    },
    {
      "cell_type": "code",
      "metadata": {
        "id": "eEIwY8RSX-S2",
        "colab_type": "code",
        "colab": {}
      },
      "source": [
        "us_state_set"
      ],
      "execution_count": 0,
      "outputs": []
    },
    {
      "cell_type": "code",
      "metadata": {
        "id": "EgOsaxLl59Lo",
        "colab_type": "code",
        "colab": {}
      },
      "source": [
        ""
      ],
      "execution_count": 0,
      "outputs": []
    },
    {
      "cell_type": "code",
      "metadata": {
        "id": "qluKAoQc59I5",
        "colab_type": "code",
        "colab": {}
      },
      "source": [
        ""
      ],
      "execution_count": 0,
      "outputs": []
    },
    {
      "cell_type": "code",
      "metadata": {
        "id": "Vtxf_b-c59Gw",
        "colab_type": "code",
        "colab": {}
      },
      "source": [
        ""
      ],
      "execution_count": 0,
      "outputs": []
    },
    {
      "cell_type": "code",
      "metadata": {
        "id": "UPvFX_Uf587Z",
        "colab_type": "code",
        "colab": {}
      },
      "source": [
        "import os\n",
        "import tweepy as tw\n",
        "import pandas as pd\n",
        "import datetime\n",
        "from tweepy.parsers import JSONParser\n",
        "import rapidjson\n",
        "import matplotlib.pyplot as plt\n",
        "from jsonschema import validate\n",
        "import numpy as np\n",
        "import json\n",
        "\n",
        "\n",
        "file_path = '/content/drive/My Drive/'\n",
        "\n",
        "json_schema = file_path+'new_schema.json'\n",
        "\n",
        "tw_19_path = file_path+'TwitterProject/2018_11_07_18_onepercent.txt'\n",
        "\n",
        "\n",
        "pd.set_option('display.max_rows', 500)\n",
        "pd.set_option('display.max_columns', 500)\n",
        "pd.set_option('display.width', 1000)\n",
        "\n",
        "\n",
        "file_path = '/content/drive/My Drive/'\n",
        "# pd.read_json(file_path+'2018_11_07_18_onepercent.txt',lines=True)\n",
        "\n",
        "\n",
        "def ab(data,jsonSchemaFilePath, l):\n",
        "    schema = {}\n",
        "    with open(jsonSchemaFilePath, 'r') as schema_file:\n",
        "        schema = json.loads(schema_file.read())\n",
        "    try:\n",
        "        # Draft4Validator.check_schema(schema)\n",
        "        validate(data, schema)\n",
        "        l.append(data)\n",
        "        # print(dict(data).get('user').get('id'))\n",
        "    except BaseException as e:\n",
        "        # print(str(e))\n",
        "        pass\n",
        "\n",
        "\n",
        "\n",
        "\n",
        "def ab(data,schema, list_data):\n",
        "    \n",
        "    try:\n",
        "        # Draft4Validator.check_schema(schema)\n",
        "        validate(data, schema)\n",
        "        list_data.append(data)\n",
        "        #print(dict(data).get('user').get('id'))\n",
        "    except BaseException as e:\n",
        "        #print(str(e))\n",
        "        pass\n",
        "\n",
        "\n",
        "list_data = []\n",
        "schema = {}\n",
        "with open(json_schema, 'r') as schema_file:\n",
        "    schema = rapidjson.loads(schema_file.read())\n",
        "\n",
        "\n",
        "with open(tw_19_path, 'r') as f:\n",
        "  str_ = f.readlines()\n",
        "  #f = open(json_schema)\n",
        "  #print(str_[0])\n",
        "  for line in str_:\n",
        "    if line.strip():\n",
        "      ab(rapidjson.loads(line),schema,list_data)\n",
        "\n",
        "\n",
        "tweets = pd.DataFrame.from_dict(list_data)\n",
        "\n",
        "drop_cols=['utc_offset','time_zone','lang','geo_enabled','following',\n",
        "          'follow_request_sent','notifications','contributors_enabled','profile_image_url',\n",
        "          'profile_background_color','profile_background_image_url',\n",
        "          'profile_background_image_url_https','profile_background_tile',\n",
        "          'profile_link_color','profile_sidebar_border_color','profile_sidebar_fill_color',\n",
        "          'profile_text_color','profile_use_background_image','is_translator','translator_type']\n",
        "tweet_user = pd.DataFrame.from_dict(dict(tweets.user))\n",
        "tweet_user = tweet_user.T\n",
        "#tweet_user['tweet_created_at'] = tweets['created_at']\n",
        "tweet_user.insert(loc = 0, column ='tweet_created_at', value=tweets['created_at'])\n",
        "tweet_user.insert(loc = 1, column ='timestamp_ms', value=tweets['timestamp_ms'])\n",
        "tweet_user.drop(drop_cols, axis = 1,inplace=True)\n",
        "\n",
        "user_data = tweet_user.copy()\n",
        "user_data['location'].fillna(\"NA\",inplace=True)\n"
      ],
      "execution_count": 0,
      "outputs": []
    }
  ]
}